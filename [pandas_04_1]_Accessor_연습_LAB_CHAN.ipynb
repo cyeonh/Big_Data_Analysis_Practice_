{
  "nbformat": 4,
  "nbformat_minor": 0,
  "metadata": {
    "colab": {
      "name": "[pandas-04.1] Accessor_연습_LAB_CHAN.ipynb",
      "provenance": [],
      "collapsed_sections": [],
      "include_colab_link": true
    },
    "kernelspec": {
      "name": "python3",
      "display_name": "Python 3"
    },
    "language_info": {
      "name": "python"
    }
  },
  "cells": [
    {
      "cell_type": "markdown",
      "metadata": {
        "id": "view-in-github",
        "colab_type": "text"
      },
      "source": [
        "<a href=\"https://colab.research.google.com/github/cyeonh/Big_Data_Analysis_Practice_/blob/main/%5Bpandas_04_1%5D_Accessor_%EC%97%B0%EC%8A%B5_LAB_CHAN.ipynb\" target=\"_parent\"><img src=\"https://colab.research.google.com/assets/colab-badge.svg\" alt=\"Open In Colab\"/></a>"
      ]
    },
    {
      "cell_type": "markdown",
      "metadata": {
        "id": "JbOnc7BpmYd3"
      },
      "source": [
        "### 1.Accessor - str\n",
        "- str.strip('제거할 문자들') : 문자열의 앞/뒤에 불필요한 것을 제거함\n",
        "   - 제거할 문자들을 지정하지 않을 경우 whitespace를 제거함\n",
        "- str.split('구분자')\n",
        "   - 구분자를 지정하지 않을 경우 whitespace를 기준으로 분리함\n",
        "   - 각 구분된 내용은 str[0], str[1], .. 등으로 접근\n",
        "- str.join('구분자')\n",
        "   - 구분자 지정을 생략할 수 없음\n",
        "   - 분리된 문자열을 구분자를 사이에 넣어 하나의 문자열로 만듦\n",
        "- str.replace(전, 후)\n",
        "   - 문자열의 일부 내용을 변경 가능함\n",
        "   - 변경전 내용을 찾아 변경후 내용으로 바꿈   \n"
      ]
    },
    {
      "cell_type": "code",
      "metadata": {
        "id": "044cQzInmcXP"
      },
      "source": [
        "import pandas as pd"
      ],
      "execution_count": 1,
      "outputs": []
    },
    {
      "cell_type": "code",
      "metadata": {
        "colab": {
          "base_uri": "https://localhost:8080/"
        },
        "id": "odS0YHbumQqr",
        "outputId": "e66fe977-ec5a-4813-81f8-5b906c904cb3"
      },
      "source": [
        "data = {'A': ['    김   수민 ', '  이  나라     ', '  황   소  라  '],\n",
        "        'B': ['  d2021-10-29.   ', '   \\n\\t\\r2021-10-30c    \\n', '2021-11-01c   '],\n",
        "        'C': ['*7', '6', '*7']}\n",
        "temp = pd.DataFrame(data)\n",
        "print(temp)"
      ],
      "execution_count": 2,
      "outputs": [
        {
          "output_type": "stream",
          "name": "stdout",
          "text": [
            "              A                           B   C\n",
            "0       김   수민              d2021-10-29.     *7\n",
            "1    이  나라          \\n\\t\\r2021-10-30c    \\n   6\n",
            "2    황   소  라                2021-11-01c     *7\n"
          ]
        }
      ]
    },
    {
      "cell_type": "code",
      "metadata": {
        "id": "V0eDNd9KmiIx"
      },
      "source": [
        "# [1] 'A' 컬럼의 데이터를 빈칸 없는 이름으로 만들어 temp의 'A'컬럼 뒤에 'A-01'컬럼으로 추가해 보세요.\n",
        "temp.insert(1, 'A-01', temp['A'].str.split().str.join(''))"
      ],
      "execution_count": 14,
      "outputs": []
    },
    {
      "cell_type": "code",
      "source": [
        "print(temp)"
      ],
      "metadata": {
        "colab": {
          "base_uri": "https://localhost:8080/"
        },
        "id": "gNBKHs4h6-MP",
        "outputId": "b5733779-d1f7-4253-f1e5-aad823c7a5bb"
      },
      "execution_count": 15,
      "outputs": [
        {
          "output_type": "stream",
          "name": "stdout",
          "text": [
            "              A A-01                           B   C\n",
            "0       김   수민   김수민             d2021-10-29.     *7\n",
            "1    이  나라       이나라     \\n\\t\\r2021-10-30c    \\n   6\n",
            "2    황   소  라    황소라              2021-11-01c     *7\n"
          ]
        }
      ]
    },
    {
      "cell_type": "code",
      "metadata": {
        "id": "8uVbTsOqr6sB"
      },
      "source": [
        "# [2] 'B' 컬럼의 데이티를 2021-10-29 처럼 앞/뒤에 공백이나 다른 문자('.dc')가 없도록 만들어 \n",
        "# temp에 'B-01' 컬럼으로 추가해 보세요.\n",
        "\n",
        "temp['B-01']= temp['B'].str.strip().str.strip('.dc')\n"
      ],
      "execution_count": 22,
      "outputs": []
    },
    {
      "cell_type": "code",
      "source": [
        "print(temp)"
      ],
      "metadata": {
        "colab": {
          "base_uri": "https://localhost:8080/"
        },
        "id": "gbviUH637kQN",
        "outputId": "106e8553-d082-45d0-8380-b1184c1af045"
      },
      "execution_count": 23,
      "outputs": [
        {
          "output_type": "stream",
          "name": "stdout",
          "text": [
            "              A A-01                           B   C        B-01\n",
            "0       김   수민   김수민             d2021-10-29.     *7  2021-10-29\n",
            "1    이  나라       이나라     \\n\\t\\r2021-10-30c    \\n   6  2021-10-30\n",
            "2    황   소  라    황소라              2021-11-01c     *7  2021-11-01\n"
          ]
        }
      ]
    },
    {
      "cell_type": "code",
      "metadata": {
        "id": "i2MK6YY6soem"
      },
      "source": [
        "# [3] 'B-01' 컬럼의 데이터에서 '-'를 '/'로 수정해 temp에 'B-02' 컬럼으로 추가해 보세요.\n",
        "\n",
        "temp['B-02']= temp['B-01'].str.replace('-','/')"
      ],
      "execution_count": 26,
      "outputs": []
    },
    {
      "cell_type": "code",
      "source": [
        "print(temp)"
      ],
      "metadata": {
        "colab": {
          "base_uri": "https://localhost:8080/"
        },
        "id": "oQ2rITNj73kc",
        "outputId": "b20b383a-5ba7-4028-82a0-abec18fe9469"
      },
      "execution_count": 27,
      "outputs": [
        {
          "output_type": "stream",
          "name": "stdout",
          "text": [
            "              A A-01                           B   C        B-01        B-02\n",
            "0       김   수민   김수민             d2021-10-29.     *7  2021-10-29  2021/10/29\n",
            "1    이  나라       이나라     \\n\\t\\r2021-10-30c    \\n   6  2021-10-30  2021/10/30\n",
            "2    황   소  라    황소라              2021-11-01c     *7  2021-11-01  2021/11/01\n"
          ]
        }
      ]
    },
    {
      "cell_type": "code",
      "metadata": {
        "id": "ytRlgBPbuT52",
        "colab": {
          "base_uri": "https://localhost:8080/"
        },
        "outputId": "0bbcf3bc-9190-4d76-bb13-b9146f97c7db"
      },
      "source": [
        "# [4] 'C' 컬럼에서 *을 제거하고 숫자로 변경해 'C-01'컬럼으로 추가해 보세요.\n",
        "temp['C-01']= temp['C'].str.strip('*').astype('int')\n",
        "print(temp)"
      ],
      "execution_count": 34,
      "outputs": [
        {
          "output_type": "stream",
          "name": "stdout",
          "text": [
            "              A A-01                           B   C        B-01        B-02  \\\n",
            "0       김   수민   김수민             d2021-10-29.     *7  2021-10-29  2021/10/29   \n",
            "1    이  나라       이나라     \\n\\t\\r2021-10-30c    \\n   6  2021-10-30  2021/10/30   \n",
            "2    황   소  라    황소라              2021-11-01c     *7  2021-11-01  2021/11/01   \n",
            "\n",
            "   C-01  \n",
            "0     7  \n",
            "1     6  \n",
            "2     7  \n"
          ]
        }
      ]
    },
    {
      "cell_type": "code",
      "source": [
        "temp['C-01']= temp['C'].str.replace('*', '').astype('int')"
      ],
      "metadata": {
        "colab": {
          "base_uri": "https://localhost:8080/"
        },
        "id": "IkuqftQp8fX5",
        "outputId": "d2f6ce5b-431c-4524-b112-2762dc7318a4"
      },
      "execution_count": 36,
      "outputs": [
        {
          "output_type": "stream",
          "name": "stderr",
          "text": [
            "/usr/local/lib/python3.7/dist-packages/ipykernel_launcher.py:1: FutureWarning: The default value of regex will change from True to False in a future version. In addition, single character regular expressions will *not* be treated as literal strings when regex=True.\n",
            "  \"\"\"Entry point for launching an IPython kernel.\n"
          ]
        }
      ]
    },
    {
      "cell_type": "code",
      "source": [
        "print(temp)"
      ],
      "metadata": {
        "colab": {
          "base_uri": "https://localhost:8080/"
        },
        "id": "-6VlxXmI8E3U",
        "outputId": "0c9aae7d-fd15-42ac-e6eb-38364808ca07"
      },
      "execution_count": 37,
      "outputs": [
        {
          "output_type": "stream",
          "name": "stdout",
          "text": [
            "              A A-01                           B   C        B-01        B-02  \\\n",
            "0       김   수민   김수민             d2021-10-29.     *7  2021-10-29  2021/10/29   \n",
            "1    이  나라       이나라     \\n\\t\\r2021-10-30c    \\n   6  2021-10-30  2021/10/30   \n",
            "2    황   소  라    황소라              2021-11-01c     *7  2021-11-01  2021/11/01   \n",
            "\n",
            "   C-01  \n",
            "0     7  \n",
            "1     6  \n",
            "2     7  \n"
          ]
        }
      ]
    },
    {
      "cell_type": "code",
      "source": [
        "\n"
      ],
      "metadata": {
        "id": "-UD-w98F8vYC"
      },
      "execution_count": null,
      "outputs": []
    }
  ]
}